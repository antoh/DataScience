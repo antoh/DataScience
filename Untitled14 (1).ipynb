{
 "cells": [
  {
   "cell_type": "code",
   "execution_count": 1,
   "metadata": {
    "id": "mfT4vtIAWS1C"
   },
   "outputs": [],
   "source": [
    "import numpy as np\n",
    "import sympy as sp\n",
    "import scipy.stats as spst\n",
    "import scipy.special as spsp\n",
    "import matplotlib.pyplot as plt"
   ]
  },
  {
   "cell_type": "code",
   "execution_count": 2,
   "metadata": {
    "colab": {
     "base_uri": "https://localhost:8080/",
     "height": 282
    },
    "id": "6cPc9gAVYT2k",
    "outputId": "f9608d44-210b-4eb4-b31f-76558470f137"
   },
   "outputs": [
    {
     "name": "stdout",
     "output_type": "stream",
     "text": [
      "VAR(T) is  541.1644000000001\n"
     ]
    },
    {
     "data": {
      "image/png": "[encoded data removed]",
      "text/plain": [
       "<Figure size 432x288 with 1 Axes>"
      ]
     },
     "metadata": {
      "needs_background": "light"
     },
     "output_type": "display_data"
    }
   ],
   "source": [
    "list = []\n",
    "\n",
    "def generateT():\n",
    "  U = np.random.rand()\n",
    "  sum = 0\n",
    "  T = 0\n",
    "  while sum < 1:\n",
    "    sum += U\n",
    "    T += 1\n",
    "  return T\n",
    "    \n",
    "\n",
    "for i in range(100):\n",
    "    list.append(generateT())\n",
    "\n",
    "\n",
    "\n",
    "x = np.linspace(1, 100, 100)\n",
    "\n",
    "plt.plot(x, list)\n",
    "\n",
    "\n",
    "print(\"VAR(T) is \",np.var(list))"
   ]
  },
  {
   "cell_type": "code",
   "execution_count": null,
   "metadata": {},
   "outputs": [],
   "source": []
  },
  {
   "cell_type": "code",
   "execution_count": null,
   "metadata": {},
   "outputs": [],
   "source": []
  }
 ],
 "metadata": {
  "colab": {
   "name": "Untitled14.ipynb",
   "provenance": []
  },
  "kernelspec": {
   "display_name": "Python 3 (ipykernel)",
   "language": "python",
   "name": "python3"
  },
  "language_info": {
   "codemirror_mode": {
    "name": "ipython",
    "version": 3
   },
   "file_extension": ".py",
   "mimetype": "text/x-python",
   "name": "python",
   "nbconvert_exporter": "python",
   "pygments_lexer": "ipython3",
   "version": "3.8.12"
  }
 },
 "nbformat": 4,
 "nbformat_minor": 1
}
