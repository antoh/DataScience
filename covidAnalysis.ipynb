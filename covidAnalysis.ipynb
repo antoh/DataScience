{
 "cells": [
  {
   "cell_type": "code",
   "execution_count": 1,
   "metadata": {},
   "outputs": [],
   "source": [
    "import pandas as pd\n",
    "import numpy as np\n",
    "import matplotlib.pyplot as plt\n",
    "\n",
    "%matplotlib inline"
   ]
  },
  {
   "cell_type": "code",
   "execution_count": 2,
   "metadata": {},
   "outputs": [
    {
     "name": "stderr",
     "output_type": "stream",
     "text": [
      "C:\\ProgramData\\Anaconda3\\lib\\site-packages\\IPython\\core\\interactiveshell.py:3441: DtypeWarning: Columns (1,4,5,6,13,14,15,16) have mixed types.Specify dtype option on import or set low_memory=False.\n",
      "  exec(code_obj, self.user_global_ns, self.user_ns)\n"
     ]
    }
   ],
   "source": [
    "df = pd.read_csv(\"metadata.csv\")"
   ]
  },
  {
   "cell_type": "code",
   "execution_count": 3,
   "metadata": {
    "scrolled": true
   },
   "outputs": [
    {
     "data": {
      "text/plain": [
       "(785268, 19)"
      ]
     },
     "execution_count": 3,
     "metadata": {},
     "output_type": "execute_result"
    }
   ],
   "source": [
    "df.shape"
   ]
  },
  {
   "cell_type": "code",
   "execution_count": 4,
   "metadata": {},
   "outputs": [
    {
     "data": {
      "text/plain": [
       "PLoS One                                        7601\n",
       "bioRxiv                                         6860\n",
       "BMJ                                             6039\n",
       "Int J Environ Res Public Health                 4360\n",
       "Sci Rep                                         4203\n",
       "Nature                                          2922\n",
       "Lancet                                          2866\n",
       "Cureus                                          2675\n",
       "Viruses                                         2460\n",
       "Int. j. environ. res. public health (Online)    2391\n",
       "Name: journal, dtype: int64"
      ]
     },
     "execution_count": 4,
     "metadata": {},
     "output_type": "execute_result"
    }
   ],
   "source": [
    "#Top 10 journal publications\n",
    "n = 10\n",
    "# dataframe['name'].value_counts()[:n].index.tolist()\n",
    "df['journal'].value_counts()[:n]"
   ]
  },
  {
   "cell_type": "code",
   "execution_count": 5,
   "metadata": {},
   "outputs": [
    {
     "data": {
      "text/plain": [
       "(196317, 19)"
      ]
     },
     "execution_count": 5,
     "metadata": {},
     "output_type": "execute_result"
    }
   ],
   "source": [
    "#Randomly spit data by Quarter - Sample Quarter the data \n",
    "dfSample = df.sample(frac = 0.25)\n",
    "\n",
    "dfSample.shape"
   ]
  },
  {
   "cell_type": "code",
   "execution_count": 8,
   "metadata": {},
   "outputs": [
    {
     "data": {
      "text/plain": [
       "cord_uid            string\n",
       "sha                 string\n",
       "source_x            string\n",
       "title               string\n",
       "doi                 string\n",
       "pmcid               string\n",
       "pubmed_id           object\n",
       "license             string\n",
       "abstract            string\n",
       "publish_time        string\n",
       "authors             string\n",
       "journal             string\n",
       "mag_id               Int64\n",
       "who_covidence_id    string\n",
       "arxiv_id            object\n",
       "pdf_json_files      string\n",
       "pmc_json_files      string\n",
       "url                 string\n",
       "s2_id                Int64\n",
       "dtype: object"
      ]
     },
     "execution_count": 8,
     "metadata": {},
     "output_type": "execute_result"
    }
   ],
   "source": [
    "dfSample = dfSample.convert_dtypes()\n",
    "dfSample.dtypes"
   ]
  },
  {
   "cell_type": "code",
   "execution_count": 9,
   "metadata": {
    "scrolled": true
   },
   "outputs": [
    {
     "data": {
      "text/plain": [
       "PLoS One                                        1922\n",
       "bioRxiv                                         1754\n",
       "BMJ                                             1462\n",
       "Int J Environ Res Public Health                 1074\n",
       "Sci Rep                                         1030\n",
       "Nature                                           731\n",
       "Lancet                                           711\n",
       "Cureus                                           675\n",
       "Viruses                                          592\n",
       "Int. j. environ. res. public health (Online)     586\n",
       "Name: journal, dtype: Int64"
      ]
     },
     "execution_count": 9,
     "metadata": {},
     "output_type": "execute_result"
    }
   ],
   "source": [
    "#Visualizing top 10 journals in bar chart\n",
    "n = 10\n",
    "dfSample['journal'].value_counts()[:n]"
   ]
  },
  {
   "cell_type": "code",
   "execution_count": 10,
   "metadata": {},
   "outputs": [
    {
     "data": {
      "text/plain": [
       "<AxesSubplot:>"
      ]
     },
     "execution_count": 10,
     "metadata": {},
     "output_type": "execute_result"
    },
    {
     "data": {
      "image/png": "[encoded data removed]",
      "text/plain": [
       "<Figure size 432x288 with 1 Axes>"
      ]
     },
     "metadata": {
      "needs_background": "light"
     },
     "output_type": "display_data"
    }
   ],
   "source": [
    "#Visualizing top 10 journals in bar chart\n",
    "n = 10\n",
    "dfSample['journal'].value_counts()[:n].plot(kind=\"bar\")"
   ]
  },
  {
   "cell_type": "code",
   "execution_count": 11,
   "metadata": {},
   "outputs": [
    {
     "data": {
      "text/html": [
       "<div>\n",
       "<style scoped>\n",
       "    .dataframe tbody tr th:only-of-type {\n",
       "        vertical-align: middle;\n",
       "    }\n",
       "\n",
       "    .dataframe tbody tr th {\n",
       "        vertical-align: top;\n",
       "    }\n",
       "\n",
       "    .dataframe thead th {\n",
       "        text-align: right;\n",
       "    }\n",
       "</style>\n",
       "<table border=\"1\" class=\"dataframe\">\n",
       "  <thead>\n",
       "    <tr style=\"text-align: right;\">\n",
       "      <th></th>\n",
       "      <th>cord_uid</th>\n",
       "      <th>sha</th>\n",
       "      <th>source_x</th>\n",
       "      <th>title</th>\n",
       "      <th>doi</th>\n",
       "      <th>pmcid</th>\n",
       "      <th>pubmed_id</th>\n",
       "      <th>license</th>\n",
       "      <th>abstract</th>\n",
       "      <th>publish_time</th>\n",
       "      <th>...</th>\n",
       "      <th>journal</th>\n",
       "      <th>mag_id</th>\n",
       "      <th>who_covidence_id</th>\n",
       "      <th>arxiv_id</th>\n",
       "      <th>pdf_json_files</th>\n",
       "      <th>pmc_json_files</th>\n",
       "      <th>url</th>\n",
       "      <th>s2_id</th>\n",
       "      <th>1st Source</th>\n",
       "      <th>other Sources</th>\n",
       "    </tr>\n",
       "  </thead>\n",
       "  <tbody>\n",
       "    <tr>\n",
       "      <th>563447</th>\n",
       "      <td>gv3m3u9d</td>\n",
       "      <td>2e8bf44bd30923d69c67cd3b3f627c8cf138e18c</td>\n",
       "      <td>Medline; PMC</td>\n",
       "      <td>Clinical and virological characteristics of ho...</td>\n",
       "      <td>10.1007/s15010-021-01594-w</td>\n",
       "      <td>PMC8061715</td>\n",
       "      <td>33890243.0</td>\n",
       "      <td>cc-by</td>\n",
       "      <td>PURPOSE: Adequate patient allocation is pivota...</td>\n",
       "      <td>2021-04-22</td>\n",
       "      <td>...</td>\n",
       "      <td>Infection</td>\n",
       "      <td>&lt;NA&gt;</td>\n",
       "      <td>&lt;NA&gt;</td>\n",
       "      <td>NaN</td>\n",
       "      <td>document_parses/pdf_json/2e8bf44bd30923d69c67c...</td>\n",
       "      <td>document_parses/pmc_json/PMC8061715.xml.json</td>\n",
       "      <td>https://doi.org/10.1007/s15010-021-01594-w; ht...</td>\n",
       "      <td>233355606</td>\n",
       "      <td>Medline</td>\n",
       "      <td>PMC</td>\n",
       "    </tr>\n",
       "    <tr>\n",
       "      <th>133534</th>\n",
       "      <td>63m4qw7p</td>\n",
       "      <td>&lt;NA&gt;</td>\n",
       "      <td>Medline</td>\n",
       "      <td>The growth characteristics of Bacillus cereus ...</td>\n",
       "      <td>10.4315/jfp-20-196</td>\n",
       "      <td>&lt;NA&gt;</td>\n",
       "      <td>32977335.0</td>\n",
       "      <td>unk</td>\n",
       "      <td>Sake (Japanese rice wine) has been recognized ...</td>\n",
       "      <td>2020-09-25</td>\n",
       "      <td>...</td>\n",
       "      <td>Journal of food protection</td>\n",
       "      <td>&lt;NA&gt;</td>\n",
       "      <td>&lt;NA&gt;</td>\n",
       "      <td>NaN</td>\n",
       "      <td>&lt;NA&gt;</td>\n",
       "      <td>&lt;NA&gt;</td>\n",
       "      <td>https://doi.org/10.4315/jfp-20-196; https://ww...</td>\n",
       "      <td>221937719</td>\n",
       "      <td>Medline</td>\n",
       "      <td>&lt;NA&gt;</td>\n",
       "    </tr>\n",
       "    <tr>\n",
       "      <th>141039</th>\n",
       "      <td>tz8gzdar</td>\n",
       "      <td>&lt;NA&gt;</td>\n",
       "      <td>Medline</td>\n",
       "      <td>Cerebrovascular autoregulation after rewarming...</td>\n",
       "      <td>10.1152/japplphysiol.00238.2013</td>\n",
       "      <td>&lt;NA&gt;</td>\n",
       "      <td>24009008.0</td>\n",
       "      <td>unk</td>\n",
       "      <td>After hypoxic brain injury, maintaining blood ...</td>\n",
       "      <td>2013</td>\n",
       "      <td>...</td>\n",
       "      <td>Journal of applied physiology</td>\n",
       "      <td>&lt;NA&gt;</td>\n",
       "      <td>&lt;NA&gt;</td>\n",
       "      <td>NaN</td>\n",
       "      <td>&lt;NA&gt;</td>\n",
       "      <td>&lt;NA&gt;</td>\n",
       "      <td>https://doi.org/10.1152/japplphysiol.00238.201...</td>\n",
       "      <td>9098421</td>\n",
       "      <td>Medline</td>\n",
       "      <td>&lt;NA&gt;</td>\n",
       "    </tr>\n",
       "    <tr>\n",
       "      <th>454431</th>\n",
       "      <td>nkzzap55</td>\n",
       "      <td>&lt;NA&gt;</td>\n",
       "      <td>WHO</td>\n",
       "      <td>Superior Mesenteric Artery Thrombosis in COVID...</td>\n",
       "      <td>&lt;NA&gt;</td>\n",
       "      <td>&lt;NA&gt;</td>\n",
       "      <td>NaN</td>\n",
       "      <td>unk</td>\n",
       "      <td>The COVID-19 disease caused by novel coronavir...</td>\n",
       "      <td>2020</td>\n",
       "      <td>...</td>\n",
       "      <td>Indian J Surg</td>\n",
       "      <td>&lt;NA&gt;</td>\n",
       "      <td>#888302</td>\n",
       "      <td>NaN</td>\n",
       "      <td>&lt;NA&gt;</td>\n",
       "      <td>&lt;NA&gt;</td>\n",
       "      <td>&lt;NA&gt;</td>\n",
       "      <td>224784105</td>\n",
       "      <td>WHO</td>\n",
       "      <td>&lt;NA&gt;</td>\n",
       "    </tr>\n",
       "    <tr>\n",
       "      <th>167444</th>\n",
       "      <td>itc5kqud</td>\n",
       "      <td>0c5bfa3f99bce43fcacdb8dc58bbe5ea9da1166c</td>\n",
       "      <td>MedRxiv</td>\n",
       "      <td>Self-assessment of COVID-19 vaccination effica...</td>\n",
       "      <td>10.1101/2021.06.27.21258591</td>\n",
       "      <td>&lt;NA&gt;</td>\n",
       "      <td>NaN</td>\n",
       "      <td>medrxiv</td>\n",
       "      <td>1. A highly specific lateral flow test kit for...</td>\n",
       "      <td>2021-07-02</td>\n",
       "      <td>...</td>\n",
       "      <td>&lt;NA&gt;</td>\n",
       "      <td>&lt;NA&gt;</td>\n",
       "      <td>&lt;NA&gt;</td>\n",
       "      <td>NaN</td>\n",
       "      <td>document_parses/pdf_json/0c5bfa3f99bce43fcacdb...</td>\n",
       "      <td>&lt;NA&gt;</td>\n",
       "      <td>http://medrxiv.org/cgi/content/short/2021.06.2...</td>\n",
       "      <td>235703779</td>\n",
       "      <td>MedRxiv</td>\n",
       "      <td>&lt;NA&gt;</td>\n",
       "    </tr>\n",
       "  </tbody>\n",
       "</table>\n",
       "<p>5 rows × 21 columns</p>\n",
       "</div>"
      ],
      "text/plain": [
       "        cord_uid                                       sha      source_x  \\\n",
       "563447  gv3m3u9d  2e8bf44bd30923d69c67cd3b3f627c8cf138e18c  Medline; PMC   \n",
       "133534  63m4qw7p                                      <NA>       Medline   \n",
       "141039  tz8gzdar                                      <NA>       Medline   \n",
       "454431  nkzzap55                                      <NA>           WHO   \n",
       "167444  itc5kqud  0c5bfa3f99bce43fcacdb8dc58bbe5ea9da1166c       MedRxiv   \n",
       "\n",
       "                                                    title  \\\n",
       "563447  Clinical and virological characteristics of ho...   \n",
       "133534  The growth characteristics of Bacillus cereus ...   \n",
       "141039  Cerebrovascular autoregulation after rewarming...   \n",
       "454431  Superior Mesenteric Artery Thrombosis in COVID...   \n",
       "167444  Self-assessment of COVID-19 vaccination effica...   \n",
       "\n",
       "                                    doi       pmcid   pubmed_id  license  \\\n",
       "563447       10.1007/s15010-021-01594-w  PMC8061715  33890243.0    cc-by   \n",
       "133534               10.4315/jfp-20-196        <NA>  32977335.0      unk   \n",
       "141039  10.1152/japplphysiol.00238.2013        <NA>  24009008.0      unk   \n",
       "454431                             <NA>        <NA>         NaN      unk   \n",
       "167444      10.1101/2021.06.27.21258591        <NA>         NaN  medrxiv   \n",
       "\n",
       "                                                 abstract publish_time  ...  \\\n",
       "563447  PURPOSE: Adequate patient allocation is pivota...   2021-04-22  ...   \n",
       "133534  Sake (Japanese rice wine) has been recognized ...   2020-09-25  ...   \n",
       "141039  After hypoxic brain injury, maintaining blood ...         2013  ...   \n",
       "454431  The COVID-19 disease caused by novel coronavir...         2020  ...   \n",
       "167444  1. A highly specific lateral flow test kit for...   2021-07-02  ...   \n",
       "\n",
       "                              journal mag_id  who_covidence_id arxiv_id  \\\n",
       "563447                      Infection   <NA>              <NA>      NaN   \n",
       "133534     Journal of food protection   <NA>              <NA>      NaN   \n",
       "141039  Journal of applied physiology   <NA>              <NA>      NaN   \n",
       "454431                  Indian J Surg   <NA>           #888302      NaN   \n",
       "167444                           <NA>   <NA>              <NA>      NaN   \n",
       "\n",
       "                                           pdf_json_files  \\\n",
       "563447  document_parses/pdf_json/2e8bf44bd30923d69c67c...   \n",
       "133534                                               <NA>   \n",
       "141039                                               <NA>   \n",
       "454431                                               <NA>   \n",
       "167444  document_parses/pdf_json/0c5bfa3f99bce43fcacdb...   \n",
       "\n",
       "                                      pmc_json_files  \\\n",
       "563447  document_parses/pmc_json/PMC8061715.xml.json   \n",
       "133534                                          <NA>   \n",
       "141039                                          <NA>   \n",
       "454431                                          <NA>   \n",
       "167444                                          <NA>   \n",
       "\n",
       "                                                      url      s2_id  \\\n",
       "563447  https://doi.org/10.1007/s15010-021-01594-w; ht...  233355606   \n",
       "133534  https://doi.org/10.4315/jfp-20-196; https://ww...  221937719   \n",
       "141039  https://doi.org/10.1152/japplphysiol.00238.201...    9098421   \n",
       "454431                                               <NA>  224784105   \n",
       "167444  http://medrxiv.org/cgi/content/short/2021.06.2...  235703779   \n",
       "\n",
       "        1st Source other Sources  \n",
       "563447     Medline           PMC  \n",
       "133534     Medline          <NA>  \n",
       "141039     Medline          <NA>  \n",
       "454431         WHO          <NA>  \n",
       "167444     MedRxiv          <NA>  \n",
       "\n",
       "[5 rows x 21 columns]"
      ]
     },
     "execution_count": 11,
     "metadata": {},
     "output_type": "execute_result"
    }
   ],
   "source": [
    "#Split Publication Source\n",
    "dfSample[['1st Source', 'other Sources']] = dfSample['source_x'].str.split(';',n=1, expand=True)\n",
    "dfSample.head()"
   ]
  },
  {
   "cell_type": "code",
   "execution_count": 12,
   "metadata": {},
   "outputs": [],
   "source": [
    "#Subset data to return only the dataset with top 10 journals\n",
    "dfTopTen = dfSample[dfSample['journal'].isin(['PLoS One', 'bioRxiv','BMJ','Int J Environ Res Public Health', 'Sci Rep', 'Nature', 'Lancet','Cureus', 'Viruses','Int. j. environ. res. public health (Online)'  ]) ]\n"
   ]
  },
  {
   "cell_type": "code",
   "execution_count": 13,
   "metadata": {},
   "outputs": [
    {
     "data": {
      "text/plain": [
       "<Figure size 432x288 with 0 Axes>"
      ]
     },
     "metadata": {},
     "output_type": "display_data"
    },
    {
     "data": {
      "image/png": "[encoded data removed]",
      "text/plain": [
       "<Figure size 432x288 with 1 Axes>"
      ]
     },
     "metadata": {
      "needs_background": "light"
     },
     "output_type": "display_data"
    }
   ],
   "source": [
    "#Plot the top 10 in bar graph\n",
    "plt.clf()\n",
    "dfTopTen.groupby(['journal','1st Source']).size().unstack().plot(kind='bar', log=True)\n",
    "plt.legend(bbox_to_anchor=(1.02, 1), loc='upper left', borderaxespad=0)\n",
    "plt.show()"
   ]
  },
  {
   "cell_type": "code",
   "execution_count": 14,
   "metadata": {},
   "outputs": [],
   "source": [
    "from sklearn.feature_extraction.text import TfidfVectorizer\n",
    "from sklearn.cluster import KMeans\n",
    "from sklearn.metrics import adjusted_rand_score\n"
   ]
  },
  {
   "cell_type": "code",
   "execution_count": 15,
   "metadata": {},
   "outputs": [
    {
     "data": {
      "text/plain": [
       "563447    PURPOSE: Adequate patient allocation is pivota...\n",
       "133534    Sake (Japanese rice wine) has been recognized ...\n",
       "141039    After hypoxic brain injury, maintaining blood ...\n",
       "454431    The COVID-19 disease caused by novel coronavir...\n",
       "167444    1. A highly specific lateral flow test kit for...\n",
       "Name: abstract, dtype: string"
      ]
     },
     "execution_count": 15,
     "metadata": {},
     "output_type": "execute_result"
    }
   ],
   "source": [
    "dfSample['abstract'].head()"
   ]
  },
  {
   "cell_type": "code",
   "execution_count": 21,
   "metadata": {},
   "outputs": [
    {
     "name": "stderr",
     "output_type": "stream",
     "text": [
      "C:\\ProgramData\\Anaconda3\\lib\\site-packages\\spacy\\util.py:718: UserWarning: [W094] Model 'en_core_sci_lg' (0.2.4) specifies an under-constrained spaCy version requirement: >=2.2.1. This can lead to compatibility problems with older versions, or as new spaCy versions are released, because the model may say it's compatible when it's not. Consider changing the \"spacy_version\" in your meta.json to a version range, with a lower and upper pin. For example: >=3.0.7,<3.1.0\n",
      "  warnings.warn(warn_msg)\n"
     ]
    }
   ],
   "source": [
    "import spacy\n",
    "from spacy.lang.en.stop_words import STOP_WORDS\n",
    "import en_core_sci_lg"
   ]
  },
  {
   "cell_type": "code",
   "execution_count": 22,
   "metadata": {},
   "outputs": [
    {
     "data": {
      "text/plain": [
       "['six',\n",
       " 'bottom',\n",
       " 'because',\n",
       " 'something',\n",
       " 'without',\n",
       " 'thus',\n",
       " 'meanwhile',\n",
       " 'still',\n",
       " 'wherever',\n",
       " 'very']"
      ]
     },
     "execution_count": 22,
     "metadata": {},
     "output_type": "execute_result"
    }
   ],
   "source": [
    "import string\n",
    "\n",
    "punctuations = string.punctuation\n",
    "my_stopwords = list(STOP_WORDS)\n",
    "my_stopwords[:10]"
   ]
  },
  {
   "cell_type": "code",
   "execution_count": 27,
   "metadata": {},
   "outputs": [],
   "source": [
    "new_stopwords = ['doi', 'preprint', 'copyright', 'peer', 'reviewed', 'org', 'https', 'et', 'al', 'author', 'figure','rights', 'reserved', 'permission', 'used', 'using', 'biorxiv', 'medrxiv', 'license', 'fig', 'fig.', 'al.', 'Elsevier', 'PMC', 'CZI' ]\n",
    "for w in new_stopwords:\n",
    "    if w not in my_stopwords:\n",
    "        my_stopwords.append(w)\n",
    "\n",
    "# my_stopwords = nltk.corpus.stopwords.words('english')\n",
    "# my_stopwords.extend(new_stopwords)\n",
    "# word_rooter = nltk.stem.snowball.PorterStemmer(ignore_stopwords=False).stem\n",
    "\n",
    "\n"
   ]
  },
  {
   "cell_type": "code",
   "execution_count": 31,
   "metadata": {},
   "outputs": [
    {
     "ename": "OSError",
     "evalue": "[E053] Could not read config.cfg from C:\\ProgramData\\Anaconda3\\lib\\site-packages\\en_core_sci_lg\\en_core_sci_lg-0.2.4\\config.cfg",
     "output_type": "error",
     "traceback": [
      "\u001b[1;31m---------------------------------------------------------------------------\u001b[0m",
      "\u001b[1;31mOSError\u001b[0m                                   Traceback (most recent call last)",
      "\u001b[1;32m~\\AppData\\Local\\Temp/ipykernel_6100/1544439738.py\u001b[0m in \u001b[0;36m<module>\u001b[1;34m\u001b[0m\n\u001b[0;32m      1\u001b[0m \u001b[1;31m#Parser\u001b[0m\u001b[1;33m\u001b[0m\u001b[1;33m\u001b[0m\u001b[1;33m\u001b[0m\u001b[0m\n\u001b[1;32m----> 2\u001b[1;33m \u001b[0mparser\u001b[0m \u001b[1;33m=\u001b[0m \u001b[0men_core_sci_lg\u001b[0m\u001b[1;33m.\u001b[0m\u001b[0mload\u001b[0m\u001b[1;33m(\u001b[0m\u001b[0mdisable\u001b[0m\u001b[1;33m=\u001b[0m\u001b[1;33m[\u001b[0m\u001b[1;34m\"tagger\"\u001b[0m\u001b[1;33m,\u001b[0m \u001b[1;34m\"ner\"\u001b[0m\u001b[1;33m]\u001b[0m\u001b[1;33m)\u001b[0m\u001b[1;33m\u001b[0m\u001b[1;33m\u001b[0m\u001b[0m\n\u001b[0m\u001b[0;32m      3\u001b[0m \u001b[0mparser\u001b[0m\u001b[1;33m.\u001b[0m\u001b[0mmax_length\u001b[0m \u001b[1;33m=\u001b[0m \u001b[1;36m7000000\u001b[0m\u001b[1;33m\u001b[0m\u001b[1;33m\u001b[0m\u001b[0m\n",
      "\u001b[1;32mC:\\ProgramData\\Anaconda3\\lib\\site-packages\\en_core_sci_lg\\__init__.py\u001b[0m in \u001b[0;36mload\u001b[1;34m(**overrides)\u001b[0m\n\u001b[0;32m      8\u001b[0m \u001b[1;33m\u001b[0m\u001b[0m\n\u001b[0;32m      9\u001b[0m \u001b[1;32mdef\u001b[0m \u001b[0mload\u001b[0m\u001b[1;33m(\u001b[0m\u001b[1;33m**\u001b[0m\u001b[0moverrides\u001b[0m\u001b[1;33m)\u001b[0m\u001b[1;33m:\u001b[0m\u001b[1;33m\u001b[0m\u001b[1;33m\u001b[0m\u001b[0m\n\u001b[1;32m---> 10\u001b[1;33m     \u001b[0mnlp\u001b[0m \u001b[1;33m=\u001b[0m \u001b[0mload_model_from_init_py\u001b[0m\u001b[1;33m(\u001b[0m\u001b[0m__file__\u001b[0m\u001b[1;33m,\u001b[0m \u001b[1;33m**\u001b[0m\u001b[0moverrides\u001b[0m\u001b[1;33m)\u001b[0m\u001b[1;33m\u001b[0m\u001b[1;33m\u001b[0m\u001b[0m\n\u001b[0m\u001b[0;32m     11\u001b[0m     \u001b[1;32mreturn\u001b[0m \u001b[0mnlp\u001b[0m\u001b[1;33m\u001b[0m\u001b[1;33m\u001b[0m\u001b[0m\n",
      "\u001b[1;32mC:\\ProgramData\\Anaconda3\\lib\\site-packages\\spacy\\util.py\u001b[0m in \u001b[0;36mload_model_from_init_py\u001b[1;34m(init_file, vocab, disable, exclude, config)\u001b[0m\n\u001b[0;32m    515\u001b[0m     \u001b[1;32mif\u001b[0m \u001b[1;32mnot\u001b[0m \u001b[0mmodel_path\u001b[0m\u001b[1;33m.\u001b[0m\u001b[0mexists\u001b[0m\u001b[1;33m(\u001b[0m\u001b[1;33m)\u001b[0m\u001b[1;33m:\u001b[0m\u001b[1;33m\u001b[0m\u001b[1;33m\u001b[0m\u001b[0m\n\u001b[0;32m    516\u001b[0m         \u001b[1;32mraise\u001b[0m \u001b[0mIOError\u001b[0m\u001b[1;33m(\u001b[0m\u001b[0mErrors\u001b[0m\u001b[1;33m.\u001b[0m\u001b[0mE052\u001b[0m\u001b[1;33m.\u001b[0m\u001b[0mformat\u001b[0m\u001b[1;33m(\u001b[0m\u001b[0mpath\u001b[0m\u001b[1;33m=\u001b[0m\u001b[0mdata_path\u001b[0m\u001b[1;33m)\u001b[0m\u001b[1;33m)\u001b[0m\u001b[1;33m\u001b[0m\u001b[1;33m\u001b[0m\u001b[0m\n\u001b[1;32m--> 517\u001b[1;33m     return load_model_from_path(\n\u001b[0m\u001b[0;32m    518\u001b[0m         \u001b[0mdata_path\u001b[0m\u001b[1;33m,\u001b[0m\u001b[1;33m\u001b[0m\u001b[1;33m\u001b[0m\u001b[0m\n\u001b[0;32m    519\u001b[0m         \u001b[0mvocab\u001b[0m\u001b[1;33m=\u001b[0m\u001b[0mvocab\u001b[0m\u001b[1;33m,\u001b[0m\u001b[1;33m\u001b[0m\u001b[1;33m\u001b[0m\u001b[0m\n",
      "\u001b[1;32mC:\\ProgramData\\Anaconda3\\lib\\site-packages\\spacy\\util.py\u001b[0m in \u001b[0;36mload_model_from_path\u001b[1;34m(model_path, meta, vocab, disable, exclude, config)\u001b[0m\n\u001b[0;32m    389\u001b[0m     \u001b[0mconfig_path\u001b[0m \u001b[1;33m=\u001b[0m \u001b[0mmodel_path\u001b[0m \u001b[1;33m/\u001b[0m \u001b[1;34m\"config.cfg\"\u001b[0m\u001b[1;33m\u001b[0m\u001b[1;33m\u001b[0m\u001b[0m\n\u001b[0;32m    390\u001b[0m     \u001b[0moverrides\u001b[0m \u001b[1;33m=\u001b[0m \u001b[0mdict_to_dot\u001b[0m\u001b[1;33m(\u001b[0m\u001b[0mconfig\u001b[0m\u001b[1;33m)\u001b[0m\u001b[1;33m\u001b[0m\u001b[1;33m\u001b[0m\u001b[0m\n\u001b[1;32m--> 391\u001b[1;33m     \u001b[0mconfig\u001b[0m \u001b[1;33m=\u001b[0m \u001b[0mload_config\u001b[0m\u001b[1;33m(\u001b[0m\u001b[0mconfig_path\u001b[0m\u001b[1;33m,\u001b[0m \u001b[0moverrides\u001b[0m\u001b[1;33m=\u001b[0m\u001b[0moverrides\u001b[0m\u001b[1;33m)\u001b[0m\u001b[1;33m\u001b[0m\u001b[1;33m\u001b[0m\u001b[0m\n\u001b[0m\u001b[0;32m    392\u001b[0m     \u001b[0mnlp\u001b[0m \u001b[1;33m=\u001b[0m \u001b[0mload_model_from_config\u001b[0m\u001b[1;33m(\u001b[0m\u001b[0mconfig\u001b[0m\u001b[1;33m,\u001b[0m \u001b[0mvocab\u001b[0m\u001b[1;33m=\u001b[0m\u001b[0mvocab\u001b[0m\u001b[1;33m,\u001b[0m \u001b[0mdisable\u001b[0m\u001b[1;33m=\u001b[0m\u001b[0mdisable\u001b[0m\u001b[1;33m,\u001b[0m \u001b[0mexclude\u001b[0m\u001b[1;33m=\u001b[0m\u001b[0mexclude\u001b[0m\u001b[1;33m)\u001b[0m\u001b[1;33m\u001b[0m\u001b[1;33m\u001b[0m\u001b[0m\n\u001b[0;32m    393\u001b[0m     \u001b[1;32mreturn\u001b[0m \u001b[0mnlp\u001b[0m\u001b[1;33m.\u001b[0m\u001b[0mfrom_disk\u001b[0m\u001b[1;33m(\u001b[0m\u001b[0mmodel_path\u001b[0m\u001b[1;33m,\u001b[0m \u001b[0mexclude\u001b[0m\u001b[1;33m=\u001b[0m\u001b[0mexclude\u001b[0m\u001b[1;33m,\u001b[0m \u001b[0moverrides\u001b[0m\u001b[1;33m=\u001b[0m\u001b[0moverrides\u001b[0m\u001b[1;33m)\u001b[0m\u001b[1;33m\u001b[0m\u001b[1;33m\u001b[0m\u001b[0m\n",
      "\u001b[1;32mC:\\ProgramData\\Anaconda3\\lib\\site-packages\\spacy\\util.py\u001b[0m in \u001b[0;36mload_config\u001b[1;34m(path, overrides, interpolate)\u001b[0m\n\u001b[0;32m    546\u001b[0m     \u001b[1;32melse\u001b[0m\u001b[1;33m:\u001b[0m\u001b[1;33m\u001b[0m\u001b[1;33m\u001b[0m\u001b[0m\n\u001b[0;32m    547\u001b[0m         \u001b[1;32mif\u001b[0m \u001b[1;32mnot\u001b[0m \u001b[0mconfig_path\u001b[0m \u001b[1;32mor\u001b[0m \u001b[1;32mnot\u001b[0m \u001b[0mconfig_path\u001b[0m\u001b[1;33m.\u001b[0m\u001b[0mexists\u001b[0m\u001b[1;33m(\u001b[0m\u001b[1;33m)\u001b[0m \u001b[1;32mor\u001b[0m \u001b[1;32mnot\u001b[0m \u001b[0mconfig_path\u001b[0m\u001b[1;33m.\u001b[0m\u001b[0mis_file\u001b[0m\u001b[1;33m(\u001b[0m\u001b[1;33m)\u001b[0m\u001b[1;33m:\u001b[0m\u001b[1;33m\u001b[0m\u001b[1;33m\u001b[0m\u001b[0m\n\u001b[1;32m--> 548\u001b[1;33m             \u001b[1;32mraise\u001b[0m \u001b[0mIOError\u001b[0m\u001b[1;33m(\u001b[0m\u001b[0mErrors\u001b[0m\u001b[1;33m.\u001b[0m\u001b[0mE053\u001b[0m\u001b[1;33m.\u001b[0m\u001b[0mformat\u001b[0m\u001b[1;33m(\u001b[0m\u001b[0mpath\u001b[0m\u001b[1;33m=\u001b[0m\u001b[0mconfig_path\u001b[0m\u001b[1;33m,\u001b[0m \u001b[0mname\u001b[0m\u001b[1;33m=\u001b[0m\u001b[1;34m\"config.cfg\"\u001b[0m\u001b[1;33m)\u001b[0m\u001b[1;33m)\u001b[0m\u001b[1;33m\u001b[0m\u001b[1;33m\u001b[0m\u001b[0m\n\u001b[0m\u001b[0;32m    549\u001b[0m         return config.from_disk(\n\u001b[0;32m    550\u001b[0m             \u001b[0mconfig_path\u001b[0m\u001b[1;33m,\u001b[0m \u001b[0moverrides\u001b[0m\u001b[1;33m=\u001b[0m\u001b[0moverrides\u001b[0m\u001b[1;33m,\u001b[0m \u001b[0minterpolate\u001b[0m\u001b[1;33m=\u001b[0m\u001b[0minterpolate\u001b[0m\u001b[1;33m\u001b[0m\u001b[1;33m\u001b[0m\u001b[0m\n",
      "\u001b[1;31mOSError\u001b[0m: [E053] Could not read config.cfg from C:\\ProgramData\\Anaconda3\\lib\\site-packages\\en_core_sci_lg\\en_core_sci_lg-0.2.4\\config.cfg"
     ]
    }
   ],
   "source": [
    "#Parser\n",
    "parser = en_core_sci_lg.load(disable=[\"tagger\", \"ner\"])\n",
    "parser.max_length = 7000000"
   ]
  },
  {
   "cell_type": "code",
   "execution_count": 17,
   "metadata": {
    "scrolled": true
   },
   "outputs": [],
   "source": [
    "\n",
    "import re\n",
    "\n",
    "\n",
    "#  def spacy_tokenizer(sentence):\n",
    "#      mytokens = parser(sentence)\n",
    "#      mytokens = [ word.lemma_.lower().strip() if word.lemma_ != \"-PRON-\" else word.lower_ for word in mytokens ]\n",
    "#      mytokens = [ word for word in mytokens if word not in stopwords and word not in punctuations ]\n",
    "#      mytokens = \" \".join([i for i in mytokens])\n",
    "#      return mytokens\n",
    "\n",
    "\n",
    "# cleaning master function\n",
    "def clean_abstract(abstract, bigrams=False):\n",
    "#     abstract = parser(sentence)\n",
    "    abstract = re.sub('([0-9]+)', '', abstract) # remove numbers\n",
    "    abstract = abstract.lower() # lower case\n",
    "    abstract = re.sub('['+my_punctuation + ']+', ' ', abstract) # strip punctuation\n",
    "    abstract = re.sub('\\s+', ' ', abstract) #remove double spacing\n",
    "    abstract_token_list = [word for word in abstract.split(' ')\n",
    "                            if word not in my_stopwords] # remove stopwords\n",
    "\n",
    "    if bigrams:\n",
    "        abstract_token_list = abstract_token_list+[abstract_token_list[i]+'_'+abstract_token_list[i+1]\n",
    "                                            for i in range(len(abstract_token_list)-1)]\n",
    "    abstract = ' '.join(abstract_token_list)\n",
    "    return abstract"
   ]
  },
  {
   "cell_type": "code",
   "execution_count": 18,
   "metadata": {},
   "outputs": [
    {
     "data": {
      "text/plain": [
       "cord_uid            string\n",
       "sha                 string\n",
       "source_x            string\n",
       "title               string\n",
       "doi                 string\n",
       "pmcid               string\n",
       "pubmed_id           object\n",
       "license             string\n",
       "abstract            string\n",
       "publish_time        string\n",
       "authors             string\n",
       "journal             string\n",
       "mag_id               Int64\n",
       "who_covidence_id    string\n",
       "arxiv_id            object\n",
       "pdf_json_files      string\n",
       "pmc_json_files      string\n",
       "url                 string\n",
       "s2_id                Int64\n",
       "1st Source          string\n",
       "other Sources       string\n",
       "dtype: object"
      ]
     },
     "execution_count": 18,
     "metadata": {},
     "output_type": "execute_result"
    }
   ],
   "source": [
    "#dfSample = dfSample.convert_dtypes()\n",
    "dfSample.dtypes"
   ]
  },
  {
   "cell_type": "code",
   "execution_count": 19,
   "metadata": {
    "scrolled": false
   },
   "outputs": [
    {
     "ename": "NameError",
     "evalue": "name 'my_punctuation' is not defined",
     "output_type": "error",
     "traceback": [
      "\u001b[1;31m---------------------------------------------------------------------------\u001b[0m",
      "\u001b[1;31mNameError\u001b[0m                                 Traceback (most recent call last)",
      "\u001b[1;32m~\\AppData\\Local\\Temp/ipykernel_6100/2026223432.py\u001b[0m in \u001b[0;36m<module>\u001b[1;34m\u001b[0m\n\u001b[1;32m----> 1\u001b[1;33m \u001b[0mdfSample\u001b[0m\u001b[1;33m[\u001b[0m\u001b[1;34m'clean_abstract'\u001b[0m\u001b[1;33m]\u001b[0m \u001b[1;33m=\u001b[0m \u001b[0mdfSample\u001b[0m\u001b[1;33m.\u001b[0m\u001b[0mabstract\u001b[0m\u001b[1;33m.\u001b[0m\u001b[0mapply\u001b[0m\u001b[1;33m(\u001b[0m\u001b[0mclean_abstract\u001b[0m\u001b[1;33m)\u001b[0m\u001b[1;33m\u001b[0m\u001b[1;33m\u001b[0m\u001b[0m\n\u001b[0m",
      "\u001b[1;32mC:\\ProgramData\\Anaconda3\\lib\\site-packages\\pandas\\core\\series.py\u001b[0m in \u001b[0;36mapply\u001b[1;34m(self, func, convert_dtype, args, **kwargs)\u001b[0m\n\u001b[0;32m   4355\u001b[0m         \u001b[0mdtype\u001b[0m\u001b[1;33m:\u001b[0m \u001b[0mfloat64\u001b[0m\u001b[1;33m\u001b[0m\u001b[1;33m\u001b[0m\u001b[0m\n\u001b[0;32m   4356\u001b[0m         \"\"\"\n\u001b[1;32m-> 4357\u001b[1;33m         \u001b[1;32mreturn\u001b[0m \u001b[0mSeriesApply\u001b[0m\u001b[1;33m(\u001b[0m\u001b[0mself\u001b[0m\u001b[1;33m,\u001b[0m \u001b[0mfunc\u001b[0m\u001b[1;33m,\u001b[0m \u001b[0mconvert_dtype\u001b[0m\u001b[1;33m,\u001b[0m \u001b[0margs\u001b[0m\u001b[1;33m,\u001b[0m \u001b[0mkwargs\u001b[0m\u001b[1;33m)\u001b[0m\u001b[1;33m.\u001b[0m\u001b[0mapply\u001b[0m\u001b[1;33m(\u001b[0m\u001b[1;33m)\u001b[0m\u001b[1;33m\u001b[0m\u001b[1;33m\u001b[0m\u001b[0m\n\u001b[0m\u001b[0;32m   4358\u001b[0m \u001b[1;33m\u001b[0m\u001b[0m\n\u001b[0;32m   4359\u001b[0m     def _reduce(\n",
      "\u001b[1;32mC:\\ProgramData\\Anaconda3\\lib\\site-packages\\pandas\\core\\apply.py\u001b[0m in \u001b[0;36mapply\u001b[1;34m(self)\u001b[0m\n\u001b[0;32m   1041\u001b[0m             \u001b[1;32mreturn\u001b[0m \u001b[0mself\u001b[0m\u001b[1;33m.\u001b[0m\u001b[0mapply_str\u001b[0m\u001b[1;33m(\u001b[0m\u001b[1;33m)\u001b[0m\u001b[1;33m\u001b[0m\u001b[1;33m\u001b[0m\u001b[0m\n\u001b[0;32m   1042\u001b[0m \u001b[1;33m\u001b[0m\u001b[0m\n\u001b[1;32m-> 1043\u001b[1;33m         \u001b[1;32mreturn\u001b[0m \u001b[0mself\u001b[0m\u001b[1;33m.\u001b[0m\u001b[0mapply_standard\u001b[0m\u001b[1;33m(\u001b[0m\u001b[1;33m)\u001b[0m\u001b[1;33m\u001b[0m\u001b[1;33m\u001b[0m\u001b[0m\n\u001b[0m\u001b[0;32m   1044\u001b[0m \u001b[1;33m\u001b[0m\u001b[0m\n\u001b[0;32m   1045\u001b[0m     \u001b[1;32mdef\u001b[0m \u001b[0magg\u001b[0m\u001b[1;33m(\u001b[0m\u001b[0mself\u001b[0m\u001b[1;33m)\u001b[0m\u001b[1;33m:\u001b[0m\u001b[1;33m\u001b[0m\u001b[1;33m\u001b[0m\u001b[0m\n",
      "\u001b[1;32mC:\\ProgramData\\Anaconda3\\lib\\site-packages\\pandas\\core\\apply.py\u001b[0m in \u001b[0;36mapply_standard\u001b[1;34m(self)\u001b[0m\n\u001b[0;32m   1097\u001b[0m                 \u001b[1;31m# List[Union[Callable[..., Any], str]]]]]\"; expected\u001b[0m\u001b[1;33m\u001b[0m\u001b[1;33m\u001b[0m\u001b[1;33m\u001b[0m\u001b[0m\n\u001b[0;32m   1098\u001b[0m                 \u001b[1;31m# \"Callable[[Any], Any]\"\u001b[0m\u001b[1;33m\u001b[0m\u001b[1;33m\u001b[0m\u001b[1;33m\u001b[0m\u001b[0m\n\u001b[1;32m-> 1099\u001b[1;33m                 mapped = lib.map_infer(\n\u001b[0m\u001b[0;32m   1100\u001b[0m                     \u001b[0mvalues\u001b[0m\u001b[1;33m,\u001b[0m\u001b[1;33m\u001b[0m\u001b[1;33m\u001b[0m\u001b[0m\n\u001b[0;32m   1101\u001b[0m                     \u001b[0mf\u001b[0m\u001b[1;33m,\u001b[0m  \u001b[1;31m# type: ignore[arg-type]\u001b[0m\u001b[1;33m\u001b[0m\u001b[1;33m\u001b[0m\u001b[0m\n",
      "\u001b[1;32mC:\\ProgramData\\Anaconda3\\lib\\site-packages\\pandas\\_libs\\lib.pyx\u001b[0m in \u001b[0;36mpandas._libs.lib.map_infer\u001b[1;34m()\u001b[0m\n",
      "\u001b[1;32m~\\AppData\\Local\\Temp/ipykernel_6100/1598629966.py\u001b[0m in \u001b[0;36mclean_abstract\u001b[1;34m(abstract, bigrams)\u001b[0m\n\u001b[0;32m     15\u001b[0m     \u001b[0mabstract\u001b[0m \u001b[1;33m=\u001b[0m \u001b[0mre\u001b[0m\u001b[1;33m.\u001b[0m\u001b[0msub\u001b[0m\u001b[1;33m(\u001b[0m\u001b[1;34m'([0-9]+)'\u001b[0m\u001b[1;33m,\u001b[0m \u001b[1;34m''\u001b[0m\u001b[1;33m,\u001b[0m \u001b[0mabstract\u001b[0m\u001b[1;33m)\u001b[0m \u001b[1;31m# remove numbers\u001b[0m\u001b[1;33m\u001b[0m\u001b[1;33m\u001b[0m\u001b[0m\n\u001b[0;32m     16\u001b[0m     \u001b[0mabstract\u001b[0m \u001b[1;33m=\u001b[0m \u001b[0mabstract\u001b[0m\u001b[1;33m.\u001b[0m\u001b[0mlower\u001b[0m\u001b[1;33m(\u001b[0m\u001b[1;33m)\u001b[0m \u001b[1;31m# lower case\u001b[0m\u001b[1;33m\u001b[0m\u001b[1;33m\u001b[0m\u001b[0m\n\u001b[1;32m---> 17\u001b[1;33m     \u001b[0mabstract\u001b[0m \u001b[1;33m=\u001b[0m \u001b[0mre\u001b[0m\u001b[1;33m.\u001b[0m\u001b[0msub\u001b[0m\u001b[1;33m(\u001b[0m\u001b[1;34m'['\u001b[0m\u001b[1;33m+\u001b[0m\u001b[0mmy_punctuation\u001b[0m \u001b[1;33m+\u001b[0m \u001b[1;34m']+'\u001b[0m\u001b[1;33m,\u001b[0m \u001b[1;34m' '\u001b[0m\u001b[1;33m,\u001b[0m \u001b[0mabstract\u001b[0m\u001b[1;33m)\u001b[0m \u001b[1;31m# strip punctuation\u001b[0m\u001b[1;33m\u001b[0m\u001b[1;33m\u001b[0m\u001b[0m\n\u001b[0m\u001b[0;32m     18\u001b[0m     \u001b[0mabstract\u001b[0m \u001b[1;33m=\u001b[0m \u001b[0mre\u001b[0m\u001b[1;33m.\u001b[0m\u001b[0msub\u001b[0m\u001b[1;33m(\u001b[0m\u001b[1;34m'\\s+'\u001b[0m\u001b[1;33m,\u001b[0m \u001b[1;34m' '\u001b[0m\u001b[1;33m,\u001b[0m \u001b[0mabstract\u001b[0m\u001b[1;33m)\u001b[0m \u001b[1;31m#remove double spacing\u001b[0m\u001b[1;33m\u001b[0m\u001b[1;33m\u001b[0m\u001b[0m\n\u001b[0;32m     19\u001b[0m     abstract_token_list = [word for word in abstract.split(' ')\n",
      "\u001b[1;31mNameError\u001b[0m: name 'my_punctuation' is not defined"
     ]
    }
   ],
   "source": [
    "dfSample['clean_abstract'] = dfSample.abstract.apply(clean_abstract)\n"
   ]
  },
  {
   "cell_type": "code",
   "execution_count": 31,
   "metadata": {},
   "outputs": [
    {
     "data": {
      "text/html": [
       "<div>\n",
       "<style scoped>\n",
       "    .dataframe tbody tr th:only-of-type {\n",
       "        vertical-align: middle;\n",
       "    }\n",
       "\n",
       "    .dataframe tbody tr th {\n",
       "        vertical-align: top;\n",
       "    }\n",
       "\n",
       "    .dataframe thead th {\n",
       "        text-align: right;\n",
       "    }\n",
       "</style>\n",
       "<table border=\"1\" class=\"dataframe\">\n",
       "  <thead>\n",
       "    <tr style=\"text-align: right;\">\n",
       "      <th></th>\n",
       "      <th>cord_uid</th>\n",
       "      <th>sha</th>\n",
       "      <th>source_x</th>\n",
       "      <th>title</th>\n",
       "      <th>doi</th>\n",
       "      <th>pmcid</th>\n",
       "      <th>pubmed_id</th>\n",
       "      <th>license</th>\n",
       "      <th>abstract</th>\n",
       "      <th>publish_time</th>\n",
       "      <th>...</th>\n",
       "      <th>journal</th>\n",
       "      <th>mag_id</th>\n",
       "      <th>who_covidence_id</th>\n",
       "      <th>arxiv_id</th>\n",
       "      <th>pdf_json_files</th>\n",
       "      <th>pmc_json_files</th>\n",
       "      <th>url</th>\n",
       "      <th>s2_id</th>\n",
       "      <th>1st Source</th>\n",
       "      <th>other Sources</th>\n",
       "    </tr>\n",
       "  </thead>\n",
       "  <tbody>\n",
       "    <tr>\n",
       "      <th>479900</th>\n",
       "      <td>qhsnwtvt</td>\n",
       "      <td>&lt;NA&gt;</td>\n",
       "      <td>WHO</td>\n",
       "      <td>COVID-19 and urology</td>\n",
       "      <td>&lt;NA&gt;</td>\n",
       "      <td>&lt;NA&gt;</td>\n",
       "      <td>NaN</td>\n",
       "      <td>unk</td>\n",
       "      <td>&lt;NA&gt;</td>\n",
       "      <td>2021</td>\n",
       "      <td>...</td>\n",
       "      <td>BJU Int</td>\n",
       "      <td>&lt;NA&gt;</td>\n",
       "      <td>#1129432</td>\n",
       "      <td>NaN</td>\n",
       "      <td>&lt;NA&gt;</td>\n",
       "      <td>&lt;NA&gt;</td>\n",
       "      <td>&lt;NA&gt;</td>\n",
       "      <td>231821908</td>\n",
       "      <td>WHO</td>\n",
       "      <td>&lt;NA&gt;</td>\n",
       "    </tr>\n",
       "    <tr>\n",
       "      <th>406050</th>\n",
       "      <td>5q49hktb</td>\n",
       "      <td>&lt;NA&gt;</td>\n",
       "      <td>WHO</td>\n",
       "      <td>Willingness to get the COVID-19 vaccine with a...</td>\n",
       "      <td>&lt;NA&gt;</td>\n",
       "      <td>&lt;NA&gt;</td>\n",
       "      <td>NaN</td>\n",
       "      <td>unk</td>\n",
       "      <td>BACKGROUND: This study assessed psychosocial p...</td>\n",
       "      <td>2020</td>\n",
       "      <td>...</td>\n",
       "      <td>Am. j. infect. control</td>\n",
       "      <td>&lt;NA&gt;</td>\n",
       "      <td>#1064717</td>\n",
       "      <td>NaN</td>\n",
       "      <td>&lt;NA&gt;</td>\n",
       "      <td>&lt;NA&gt;</td>\n",
       "      <td>&lt;NA&gt;</td>\n",
       "      <td>227060805</td>\n",
       "      <td>WHO</td>\n",
       "      <td>&lt;NA&gt;</td>\n",
       "    </tr>\n",
       "    <tr>\n",
       "      <th>428073</th>\n",
       "      <td>0k2ctsj0</td>\n",
       "      <td>&lt;NA&gt;</td>\n",
       "      <td>WHO</td>\n",
       "      <td>Constructing Well-Being in Organizations: Firs...</td>\n",
       "      <td>&lt;NA&gt;</td>\n",
       "      <td>&lt;NA&gt;</td>\n",
       "      <td>NaN</td>\n",
       "      <td>unk</td>\n",
       "      <td>The construct of job crafting is gaining incre...</td>\n",
       "      <td>2021</td>\n",
       "      <td>...</td>\n",
       "      <td>Int. j. environ. res. public health (Online)</td>\n",
       "      <td>&lt;NA&gt;</td>\n",
       "      <td>#covidwho-1282491</td>\n",
       "      <td>NaN</td>\n",
       "      <td>&lt;NA&gt;</td>\n",
       "      <td>&lt;NA&gt;</td>\n",
       "      <td>&lt;NA&gt;</td>\n",
       "      <td>235715413</td>\n",
       "      <td>WHO</td>\n",
       "      <td>&lt;NA&gt;</td>\n",
       "    </tr>\n",
       "    <tr>\n",
       "      <th>463453</th>\n",
       "      <td>ulbzv4of</td>\n",
       "      <td>&lt;NA&gt;</td>\n",
       "      <td>WHO</td>\n",
       "      <td>Postscript</td>\n",
       "      <td>&lt;NA&gt;</td>\n",
       "      <td>&lt;NA&gt;</td>\n",
       "      <td>NaN</td>\n",
       "      <td>unk</td>\n",
       "      <td>&lt;NA&gt;</td>\n",
       "      <td>2021</td>\n",
       "      <td>...</td>\n",
       "      <td>Organists&amp;#039; Review</td>\n",
       "      <td>&lt;NA&gt;</td>\n",
       "      <td>#covidwho-1242421</td>\n",
       "      <td>NaN</td>\n",
       "      <td>&lt;NA&gt;</td>\n",
       "      <td>&lt;NA&gt;</td>\n",
       "      <td>&lt;NA&gt;</td>\n",
       "      <td>220791482</td>\n",
       "      <td>WHO</td>\n",
       "      <td>&lt;NA&gt;</td>\n",
       "    </tr>\n",
       "    <tr>\n",
       "      <th>261175</th>\n",
       "      <td>n443eyg1</td>\n",
       "      <td>&lt;NA&gt;</td>\n",
       "      <td>WHO</td>\n",
       "      <td>Characteristics and Outcomes of 241 Births to ...</td>\n",
       "      <td>&lt;NA&gt;</td>\n",
       "      <td>&lt;NA&gt;</td>\n",
       "      <td>NaN</td>\n",
       "      <td>unk</td>\n",
       "      <td>OBJECTIVE: To describe the characteristics and...</td>\n",
       "      <td>2020</td>\n",
       "      <td>...</td>\n",
       "      <td>Obstet Gynecol</td>\n",
       "      <td>&lt;NA&gt;</td>\n",
       "      <td>#604288</td>\n",
       "      <td>NaN</td>\n",
       "      <td>&lt;NA&gt;</td>\n",
       "      <td>&lt;NA&gt;</td>\n",
       "      <td>&lt;NA&gt;</td>\n",
       "      <td>219914727</td>\n",
       "      <td>WHO</td>\n",
       "      <td>&lt;NA&gt;</td>\n",
       "    </tr>\n",
       "  </tbody>\n",
       "</table>\n",
       "<p>5 rows × 21 columns</p>\n",
       "</div>"
      ],
      "text/plain": [
       "        cord_uid   sha source_x  \\\n",
       "479900  qhsnwtvt  <NA>      WHO   \n",
       "406050  5q49hktb  <NA>      WHO   \n",
       "428073  0k2ctsj0  <NA>      WHO   \n",
       "463453  ulbzv4of  <NA>      WHO   \n",
       "261175  n443eyg1  <NA>      WHO   \n",
       "\n",
       "                                                    title   doi pmcid  \\\n",
       "479900                               COVID-19 and urology  <NA>  <NA>   \n",
       "406050  Willingness to get the COVID-19 vaccine with a...  <NA>  <NA>   \n",
       "428073  Constructing Well-Being in Organizations: Firs...  <NA>  <NA>   \n",
       "463453                                         Postscript  <NA>  <NA>   \n",
       "261175  Characteristics and Outcomes of 241 Births to ...  <NA>  <NA>   \n",
       "\n",
       "       pubmed_id license                                           abstract  \\\n",
       "479900       NaN     unk                                               <NA>   \n",
       "406050       NaN     unk  BACKGROUND: This study assessed psychosocial p...   \n",
       "428073       NaN     unk  The construct of job crafting is gaining incre...   \n",
       "463453       NaN     unk                                               <NA>   \n",
       "261175       NaN     unk  OBJECTIVE: To describe the characteristics and...   \n",
       "\n",
       "       publish_time  ...                                       journal mag_id  \\\n",
       "479900         2021  ...                                       BJU Int   <NA>   \n",
       "406050         2020  ...                        Am. j. infect. control   <NA>   \n",
       "428073         2021  ...  Int. j. environ. res. public health (Online)   <NA>   \n",
       "463453         2021  ...                        Organists&#039; Review   <NA>   \n",
       "261175         2020  ...                                Obstet Gynecol   <NA>   \n",
       "\n",
       "         who_covidence_id arxiv_id pdf_json_files pmc_json_files   url  \\\n",
       "479900           #1129432      NaN           <NA>           <NA>  <NA>   \n",
       "406050           #1064717      NaN           <NA>           <NA>  <NA>   \n",
       "428073  #covidwho-1282491      NaN           <NA>           <NA>  <NA>   \n",
       "463453  #covidwho-1242421      NaN           <NA>           <NA>  <NA>   \n",
       "261175            #604288      NaN           <NA>           <NA>  <NA>   \n",
       "\n",
       "            s2_id  1st Source other Sources  \n",
       "479900  231821908         WHO          <NA>  \n",
       "406050  227060805         WHO          <NA>  \n",
       "428073  235715413         WHO          <NA>  \n",
       "463453  220791482         WHO          <NA>  \n",
       "261175  219914727         WHO          <NA>  \n",
       "\n",
       "[5 rows x 21 columns]"
      ]
     },
     "execution_count": 31,
     "metadata": {},
     "output_type": "execute_result"
    }
   ],
   "source": [
    "dfSample.head()"
   ]
  },
  {
   "cell_type": "code",
   "execution_count": 32,
   "metadata": {},
   "outputs": [
    {
     "ename": "KeyError",
     "evalue": "'clean_abstract'",
     "output_type": "error",
     "traceback": [
      "\u001b[1;31m---------------------------------------------------------------------------\u001b[0m",
      "\u001b[1;31mKeyError\u001b[0m                                  Traceback (most recent call last)",
      "\u001b[1;32mC:\\ProgramData\\Anaconda3\\lib\\site-packages\\pandas\\core\\indexes\\base.py\u001b[0m in \u001b[0;36mget_loc\u001b[1;34m(self, key, method, tolerance)\u001b[0m\n\u001b[0;32m   3360\u001b[0m             \u001b[1;32mtry\u001b[0m\u001b[1;33m:\u001b[0m\u001b[1;33m\u001b[0m\u001b[1;33m\u001b[0m\u001b[0m\n\u001b[1;32m-> 3361\u001b[1;33m                 \u001b[1;32mreturn\u001b[0m \u001b[0mself\u001b[0m\u001b[1;33m.\u001b[0m\u001b[0m_engine\u001b[0m\u001b[1;33m.\u001b[0m\u001b[0mget_loc\u001b[0m\u001b[1;33m(\u001b[0m\u001b[0mcasted_key\u001b[0m\u001b[1;33m)\u001b[0m\u001b[1;33m\u001b[0m\u001b[1;33m\u001b[0m\u001b[0m\n\u001b[0m\u001b[0;32m   3362\u001b[0m             \u001b[1;32mexcept\u001b[0m \u001b[0mKeyError\u001b[0m \u001b[1;32mas\u001b[0m \u001b[0merr\u001b[0m\u001b[1;33m:\u001b[0m\u001b[1;33m\u001b[0m\u001b[1;33m\u001b[0m\u001b[0m\n",
      "\u001b[1;32mC:\\ProgramData\\Anaconda3\\lib\\site-packages\\pandas\\_libs\\index.pyx\u001b[0m in \u001b[0;36mpandas._libs.index.IndexEngine.get_loc\u001b[1;34m()\u001b[0m\n",
      "\u001b[1;32mC:\\ProgramData\\Anaconda3\\lib\\site-packages\\pandas\\_libs\\index.pyx\u001b[0m in \u001b[0;36mpandas._libs.index.IndexEngine.get_loc\u001b[1;34m()\u001b[0m\n",
      "\u001b[1;32mpandas\\_libs\\hashtable_class_helper.pxi\u001b[0m in \u001b[0;36mpandas._libs.hashtable.PyObjectHashTable.get_item\u001b[1;34m()\u001b[0m\n",
      "\u001b[1;32mpandas\\_libs\\hashtable_class_helper.pxi\u001b[0m in \u001b[0;36mpandas._libs.hashtable.PyObjectHashTable.get_item\u001b[1;34m()\u001b[0m\n",
      "\u001b[1;31mKeyError\u001b[0m: 'clean_abstract'",
      "\nThe above exception was the direct cause of the following exception:\n",
      "\u001b[1;31mKeyError\u001b[0m                                  Traceback (most recent call last)",
      "\u001b[1;32m~\\AppData\\Local\\Temp/ipykernel_12036/3956856843.py\u001b[0m in \u001b[0;36m<module>\u001b[1;34m\u001b[0m\n\u001b[0;32m      2\u001b[0m \u001b[1;32mfrom\u001b[0m \u001b[0msklearn\u001b[0m\u001b[1;33m.\u001b[0m\u001b[0mfeature_extraction\u001b[0m\u001b[1;33m.\u001b[0m\u001b[0mtext\u001b[0m \u001b[1;32mimport\u001b[0m \u001b[0mCountVectorizer\u001b[0m\u001b[1;33m\u001b[0m\u001b[1;33m\u001b[0m\u001b[0m\n\u001b[0;32m      3\u001b[0m \u001b[0mcount_vect\u001b[0m \u001b[1;33m=\u001b[0m \u001b[0mCountVectorizer\u001b[0m\u001b[1;33m(\u001b[0m\u001b[1;33m)\u001b[0m\u001b[1;33m\u001b[0m\u001b[1;33m\u001b[0m\u001b[0m\n\u001b[1;32m----> 4\u001b[1;33m \u001b[0mbow\u001b[0m \u001b[1;33m=\u001b[0m \u001b[0mcount_vect\u001b[0m\u001b[1;33m.\u001b[0m\u001b[0mfit_transform\u001b[0m\u001b[1;33m(\u001b[0m\u001b[0mdfSample\u001b[0m\u001b[1;33m[\u001b[0m\u001b[1;34m'clean_abstract'\u001b[0m\u001b[1;33m]\u001b[0m\u001b[1;33m.\u001b[0m\u001b[0mvalues\u001b[0m\u001b[1;33m)\u001b[0m\u001b[1;33m\u001b[0m\u001b[1;33m\u001b[0m\u001b[0m\n\u001b[0m\u001b[0;32m      5\u001b[0m \u001b[0mbow\u001b[0m\u001b[1;33m.\u001b[0m\u001b[0mshape\u001b[0m\u001b[1;33m\u001b[0m\u001b[1;33m\u001b[0m\u001b[0m\n",
      "\u001b[1;32mC:\\ProgramData\\Anaconda3\\lib\\site-packages\\pandas\\core\\frame.py\u001b[0m in \u001b[0;36m__getitem__\u001b[1;34m(self, key)\u001b[0m\n\u001b[0;32m   3456\u001b[0m             \u001b[1;32mif\u001b[0m \u001b[0mself\u001b[0m\u001b[1;33m.\u001b[0m\u001b[0mcolumns\u001b[0m\u001b[1;33m.\u001b[0m\u001b[0mnlevels\u001b[0m \u001b[1;33m>\u001b[0m \u001b[1;36m1\u001b[0m\u001b[1;33m:\u001b[0m\u001b[1;33m\u001b[0m\u001b[1;33m\u001b[0m\u001b[0m\n\u001b[0;32m   3457\u001b[0m                 \u001b[1;32mreturn\u001b[0m \u001b[0mself\u001b[0m\u001b[1;33m.\u001b[0m\u001b[0m_getitem_multilevel\u001b[0m\u001b[1;33m(\u001b[0m\u001b[0mkey\u001b[0m\u001b[1;33m)\u001b[0m\u001b[1;33m\u001b[0m\u001b[1;33m\u001b[0m\u001b[0m\n\u001b[1;32m-> 3458\u001b[1;33m             \u001b[0mindexer\u001b[0m \u001b[1;33m=\u001b[0m \u001b[0mself\u001b[0m\u001b[1;33m.\u001b[0m\u001b[0mcolumns\u001b[0m\u001b[1;33m.\u001b[0m\u001b[0mget_loc\u001b[0m\u001b[1;33m(\u001b[0m\u001b[0mkey\u001b[0m\u001b[1;33m)\u001b[0m\u001b[1;33m\u001b[0m\u001b[1;33m\u001b[0m\u001b[0m\n\u001b[0m\u001b[0;32m   3459\u001b[0m             \u001b[1;32mif\u001b[0m \u001b[0mis_integer\u001b[0m\u001b[1;33m(\u001b[0m\u001b[0mindexer\u001b[0m\u001b[1;33m)\u001b[0m\u001b[1;33m:\u001b[0m\u001b[1;33m\u001b[0m\u001b[1;33m\u001b[0m\u001b[0m\n\u001b[0;32m   3460\u001b[0m                 \u001b[0mindexer\u001b[0m \u001b[1;33m=\u001b[0m \u001b[1;33m[\u001b[0m\u001b[0mindexer\u001b[0m\u001b[1;33m]\u001b[0m\u001b[1;33m\u001b[0m\u001b[1;33m\u001b[0m\u001b[0m\n",
      "\u001b[1;32mC:\\ProgramData\\Anaconda3\\lib\\site-packages\\pandas\\core\\indexes\\base.py\u001b[0m in \u001b[0;36mget_loc\u001b[1;34m(self, key, method, tolerance)\u001b[0m\n\u001b[0;32m   3361\u001b[0m                 \u001b[1;32mreturn\u001b[0m \u001b[0mself\u001b[0m\u001b[1;33m.\u001b[0m\u001b[0m_engine\u001b[0m\u001b[1;33m.\u001b[0m\u001b[0mget_loc\u001b[0m\u001b[1;33m(\u001b[0m\u001b[0mcasted_key\u001b[0m\u001b[1;33m)\u001b[0m\u001b[1;33m\u001b[0m\u001b[1;33m\u001b[0m\u001b[0m\n\u001b[0;32m   3362\u001b[0m             \u001b[1;32mexcept\u001b[0m \u001b[0mKeyError\u001b[0m \u001b[1;32mas\u001b[0m \u001b[0merr\u001b[0m\u001b[1;33m:\u001b[0m\u001b[1;33m\u001b[0m\u001b[1;33m\u001b[0m\u001b[0m\n\u001b[1;32m-> 3363\u001b[1;33m                 \u001b[1;32mraise\u001b[0m \u001b[0mKeyError\u001b[0m\u001b[1;33m(\u001b[0m\u001b[0mkey\u001b[0m\u001b[1;33m)\u001b[0m \u001b[1;32mfrom\u001b[0m \u001b[0merr\u001b[0m\u001b[1;33m\u001b[0m\u001b[1;33m\u001b[0m\u001b[0m\n\u001b[0m\u001b[0;32m   3364\u001b[0m \u001b[1;33m\u001b[0m\u001b[0m\n\u001b[0;32m   3365\u001b[0m         \u001b[1;32mif\u001b[0m \u001b[0mis_scalar\u001b[0m\u001b[1;33m(\u001b[0m\u001b[0mkey\u001b[0m\u001b[1;33m)\u001b[0m \u001b[1;32mand\u001b[0m \u001b[0misna\u001b[0m\u001b[1;33m(\u001b[0m\u001b[0mkey\u001b[0m\u001b[1;33m)\u001b[0m \u001b[1;32mand\u001b[0m \u001b[1;32mnot\u001b[0m \u001b[0mself\u001b[0m\u001b[1;33m.\u001b[0m\u001b[0mhasnans\u001b[0m\u001b[1;33m:\u001b[0m\u001b[1;33m\u001b[0m\u001b[1;33m\u001b[0m\u001b[0m\n",
      "\u001b[1;31mKeyError\u001b[0m: 'clean_abstract'"
     ]
    }
   ],
   "source": [
    "# Generating bag of words features.\n",
    "from sklearn.feature_extraction.text import CountVectorizer\n",
    "count_vect = CountVectorizer()\n",
    "bow = count_vect.fit_transform(dfSample['clean_abstract'].values)\n",
    "bow.shape"
   ]
  },
  {
   "cell_type": "code",
   "execution_count": 96,
   "metadata": {},
   "outputs": [
    {
     "data": {
      "text/plain": [
       "<196317x39 sparse matrix of type '<class 'numpy.int64'>'\n",
       "\twith 7656363 stored elements in Compressed Sparse Row format>"
      ]
     },
     "execution_count": 96,
     "metadata": {},
     "output_type": "execute_result"
    }
   ],
   "source": [
    "bow"
   ]
  },
  {
   "cell_type": "code",
   "execution_count": 97,
   "metadata": {},
   "outputs": [],
   "source": [
    "# to understand what kind of words generated as columns by BOW\n",
    "terms = count_vect.get_feature_names()"
   ]
  },
  {
   "cell_type": "code",
   "execution_count": 100,
   "metadata": {},
   "outputs": [
    {
     "data": {
      "text/plain": [
       "['antecedent',\n",
       " 'background',\n",
       " 'case',\n",
       " 'contact',\n",
       " 'coronaviru',\n",
       " 'covid',\n",
       " 'dental',\n",
       " 'diseas',\n",
       " 'drug',\n",
       " 'dtype',\n",
       " 'emerg',\n",
       " 'empyema',\n",
       " 'evalu',\n",
       " 'exc',\n",
       " 'gener',\n",
       " 'hazard',\n",
       " 'hd',\n",
       " 'import',\n",
       " 'indian']"
      ]
     },
     "execution_count": 100,
     "metadata": {},
     "output_type": "execute_result"
    }
   ],
   "source": [
    "#first 20 columns generated by BOW\n",
    "terms[1:20]"
   ]
  },
  {
   "cell_type": "code",
   "execution_count": 101,
   "metadata": {},
   "outputs": [
    {
     "name": "stderr",
     "output_type": "stream",
     "text": [
      "C:\\ProgramData\\Anaconda3\\lib\\site-packages\\sklearn\\cluster\\_kmeans.py:973: FutureWarning: 'n_jobs' was deprecated in version 0.23 and will be removed in 0.25.\n",
      "  warnings.warn(\"'n_jobs' was deprecated in version 0.23 and will be\"\n",
      "<ipython-input-101-eb28c89c7c65>:4: ConvergenceWarning: Number of distinct clusters (1) found smaller than n_clusters (15). Possibly due to duplicate points in X.\n",
      "  model.fit(bow)\n"
     ]
    },
    {
     "data": {
      "text/plain": [
       "KMeans(n_clusters=15, n_jobs=-1, random_state=99)"
      ]
     },
     "execution_count": 101,
     "metadata": {},
     "output_type": "execute_result"
    }
   ],
   "source": [
    "#using all processes jobs=-1 and k means++ for starting initilization advantage\n",
    "from sklearn.cluster import KMeans\n",
    "model = KMeans(n_clusters = 15,init='k-means++', n_jobs = -1,random_state=99)\n",
    "model.fit(bow)"
   ]
  },
  {
   "cell_type": "code",
   "execution_count": 102,
   "metadata": {},
   "outputs": [],
   "source": [
    "labels = model.labels_\n",
    "cluster_center=model.cluster_centers_"
   ]
  },
  {
   "cell_type": "code",
   "execution_count": 104,
   "metadata": {},
   "outputs": [
    {
     "data": {
      "text/plain": [
       "array([[1., 1., 2., 1., 1., 2., 1., 1., 1., 2., 1., 1., 1., 1., 1., 1.,\n",
       "        1., 1., 1., 1., 1., 1., 1., 1., 2., 1., 2., 1., 1., 1., 1., 1.,\n",
       "        1., 1., 1., 1., 1., 1., 1.],\n",
       "       [1., 1., 2., 1., 1., 2., 1., 1., 1., 2., 1., 1., 1., 1., 1., 1.,\n",
       "        1., 1., 1., 1., 1., 1., 1., 1., 2., 1., 2., 1., 1., 1., 1., 1.,\n",
       "        1., 1., 1., 1., 1., 1., 1.],\n",
       "       [1., 1., 2., 1., 1., 2., 1., 1., 1., 2., 1., 1., 1., 1., 1., 1.,\n",
       "        1., 1., 1., 1., 1., 1., 1., 1., 2., 1., 2., 1., 1., 1., 1., 1.,\n",
       "        1., 1., 1., 1., 1., 1., 1.],\n",
       "       [1., 1., 2., 1., 1., 2., 1., 1., 1., 2., 1., 1., 1., 1., 1., 1.,\n",
       "        1., 1., 1., 1., 1., 1., 1., 1., 2., 1., 2., 1., 1., 1., 1., 1.,\n",
       "        1., 1., 1., 1., 1., 1., 1.],\n",
       "       [1., 1., 2., 1., 1., 2., 1., 1., 1., 2., 1., 1., 1., 1., 1., 1.,\n",
       "        1., 1., 1., 1., 1., 1., 1., 1., 2., 1., 2., 1., 1., 1., 1., 1.,\n",
       "        1., 1., 1., 1., 1., 1., 1.],\n",
       "       [1., 1., 2., 1., 1., 2., 1., 1., 1., 2., 1., 1., 1., 1., 1., 1.,\n",
       "        1., 1., 1., 1., 1., 1., 1., 1., 2., 1., 2., 1., 1., 1., 1., 1.,\n",
       "        1., 1., 1., 1., 1., 1., 1.],\n",
       "       [1., 1., 2., 1., 1., 2., 1., 1., 1., 2., 1., 1., 1., 1., 1., 1.,\n",
       "        1., 1., 1., 1., 1., 1., 1., 1., 2., 1., 2., 1., 1., 1., 1., 1.,\n",
       "        1., 1., 1., 1., 1., 1., 1.],\n",
       "       [1., 1., 2., 1., 1., 2., 1., 1., 1., 2., 1., 1., 1., 1., 1., 1.,\n",
       "        1., 1., 1., 1., 1., 1., 1., 1., 2., 1., 2., 1., 1., 1., 1., 1.,\n",
       "        1., 1., 1., 1., 1., 1., 1.],\n",
       "       [1., 1., 2., 1., 1., 2., 1., 1., 1., 2., 1., 1., 1., 1., 1., 1.,\n",
       "        1., 1., 1., 1., 1., 1., 1., 1., 2., 1., 2., 1., 1., 1., 1., 1.,\n",
       "        1., 1., 1., 1., 1., 1., 1.],\n",
       "       [1., 1., 2., 1., 1., 2., 1., 1., 1., 2., 1., 1., 1., 1., 1., 1.,\n",
       "        1., 1., 1., 1., 1., 1., 1., 1., 2., 1., 2., 1., 1., 1., 1., 1.,\n",
       "        1., 1., 1., 1., 1., 1., 1.],\n",
       "       [1., 1., 2., 1., 1., 2., 1., 1., 1., 2., 1., 1., 1., 1., 1., 1.,\n",
       "        1., 1., 1., 1., 1., 1., 1., 1., 2., 1., 2., 1., 1., 1., 1., 1.,\n",
       "        1., 1., 1., 1., 1., 1., 1.],\n",
       "       [1., 1., 2., 1., 1., 2., 1., 1., 1., 2., 1., 1., 1., 1., 1., 1.,\n",
       "        1., 1., 1., 1., 1., 1., 1., 1., 2., 1., 2., 1., 1., 1., 1., 1.,\n",
       "        1., 1., 1., 1., 1., 1., 1.],\n",
       "       [1., 1., 2., 1., 1., 2., 1., 1., 1., 2., 1., 1., 1., 1., 1., 1.,\n",
       "        1., 1., 1., 1., 1., 1., 1., 1., 2., 1., 2., 1., 1., 1., 1., 1.,\n",
       "        1., 1., 1., 1., 1., 1., 1.],\n",
       "       [1., 1., 2., 1., 1., 2., 1., 1., 1., 2., 1., 1., 1., 1., 1., 1.,\n",
       "        1., 1., 1., 1., 1., 1., 1., 1., 2., 1., 2., 1., 1., 1., 1., 1.,\n",
       "        1., 1., 1., 1., 1., 1., 1.],\n",
       "       [1., 1., 2., 1., 1., 2., 1., 1., 1., 2., 1., 1., 1., 1., 1., 1.,\n",
       "        1., 1., 1., 1., 1., 1., 1., 1., 2., 1., 2., 1., 1., 1., 1., 1.,\n",
       "        1., 1., 1., 1., 1., 1., 1.]])"
      ]
     },
     "execution_count": 104,
     "metadata": {},
     "output_type": "execute_result"
    }
   ],
   "source": [
    "cluster_center"
   ]
  },
  {
   "cell_type": "code",
   "execution_count": null,
   "metadata": {},
   "outputs": [],
   "source": [
    "from sklearn import metrics\n",
    "silhouette_score = metrics.silhouette_score(bow, labels, metric='euclidean')"
   ]
  }
 ],
 "metadata": {
  "kernelspec": {
   "display_name": "Python 3 (ipykernel)",
   "language": "python",
   "name": "python3"
  },
  "language_info": {
   "codemirror_mode": {
    "name": "ipython",
    "version": 3
   },
   "file_extension": ".py",
   "mimetype": "text/x-python",
   "name": "python",
   "nbconvert_exporter": "python",
   "pygments_lexer": "ipython3",
   "version": "3.8.12"
  }
 },
 "nbformat": 4,
 "nbformat_minor": 4
}
